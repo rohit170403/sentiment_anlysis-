{
 "cells": [
  {
   "cell_type": "code",
   "execution_count": 2,
   "id": "d785d103-791b-473b-bbd8-81b38d7b62fb",
   "metadata": {},
   "outputs": [],
   "source": [
    "import pandas as pd\n",
    "from sklearn.feature_extraction.text import CountVectorizer\n",
    "from sklearn.naive_bayes import MultinomialNB"
   ]
  },
  {
   "cell_type": "code",
   "execution_count": 3,
   "id": "1c0ec93d-52c0-4f92-bee8-f30ad140637a",
   "metadata": {},
   "outputs": [],
   "source": [
    "# Load the dataset\n",
    "df = pd.read_csv('customer_reviews.csv')"
   ]
  },
  {
   "cell_type": "code",
   "execution_count": 4,
   "id": "1d473912-3917-4ef4-b5a3-7ead00beaa5c",
   "metadata": {},
   "outputs": [
    {
     "name": "stdout",
     "output_type": "stream",
     "text": [
      "                                                 review  sentiment\n",
      "0     It was nice produt. I like it's design a lot. ...          5\n",
      "1     awesome sound....very pretty to see this nd th...          5\n",
      "2     awesome sound quality. pros 7-8 hrs of battery...          4\n",
      "3     I think it is such a good product not only as ...          5\n",
      "4     awesome bass sound quality very good bettary l...          5\n",
      "...                                                 ...        ...\n",
      "9971                                      GoodREAD MORE          5\n",
      "9972  Everything is amazimg but the built is very li...          5\n",
      "9973                                      GoodREAD MORE          5\n",
      "9974       Best headphone i have ever used....READ MORE          5\n",
      "9975                                      NiceREAD MORE          5\n",
      "\n",
      "[9976 rows x 2 columns]\n"
     ]
    }
   ],
   "source": [
    "print(df)"
   ]
  },
  {
   "cell_type": "code",
   "execution_count": 5,
   "id": "697cf856-b6ac-4599-8351-b020bd0ebda9",
   "metadata": {},
   "outputs": [],
   "source": [
    "# Split the dataset into training and test sets\n",
    "X_train = df[df.index % 2 == 0]['review'].values\n",
    "X_test = df[df.index % 2 == 1]['review'].values\n",
    "y_train = df[df.index % 2 == 0]['sentiment'].values\n",
    "y_test = df[df.index % 2 == 1]['sentiment'].values"
   ]
  },
  {
   "cell_type": "code",
   "execution_count": 6,
   "id": "c65f250a-aca0-4b1d-8f95-01da5f356d4e",
   "metadata": {},
   "outputs": [],
   "source": [
    "vectorizer = CountVectorizer(lowercase=True, stop_words='english')\n",
    "X_train_vec = vectorizer.fit_transform(X_train)\n",
    "X_test_vec = vectorizer.transform(X_test)"
   ]
  },
  {
   "cell_type": "code",
   "execution_count": 7,
   "id": "3c213d44-cc8a-4d1b-957b-ec1da852e7c3",
   "metadata": {},
   "outputs": [
    {
     "data": {
      "text/plain": [
       "MultinomialNB()"
      ]
     },
     "execution_count": 7,
     "metadata": {},
     "output_type": "execute_result"
    }
   ],
   "source": [
    "clf = MultinomialNB()\n",
    "clf.fit(X_train_vec, y_train)"
   ]
  },
  {
   "cell_type": "code",
   "execution_count": 8,
   "id": "1106bc08-06fc-4d40-b267-404fedfe788f",
   "metadata": {},
   "outputs": [
    {
     "name": "stdout",
     "output_type": "stream",
     "text": [
      "Test accuracy: 0.64\n"
     ]
    }
   ],
   "source": [
    "accuracy = clf.score(X_test_vec, y_test)\n",
    "print(f'Test accuracy: {accuracy:.2f}')"
   ]
  },
  {
   "cell_type": "code",
   "execution_count": null,
   "id": "e2ce3c05",
   "metadata": {},
   "outputs": [],
   "source": []
  }
 ],
 "metadata": {
  "kernelspec": {
   "display_name": "Python 3 (ipykernel)",
   "language": "python",
   "name": "python3"
  },
  "language_info": {
   "codemirror_mode": {
    "name": "ipython",
    "version": 3
   },
   "file_extension": ".py",
   "mimetype": "text/x-python",
   "name": "python",
   "nbconvert_exporter": "python",
   "pygments_lexer": "ipython3",
   "version": "3.9.12"
  }
 },
 "nbformat": 4,
 "nbformat_minor": 5
}
